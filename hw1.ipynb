{
 "cells": [
  {
   "cell_type": "markdown",
   "metadata": {},
   "source": [
    "**Общая информация**\n",
    "\n",
    "**Срок сдачи:** 18 октября 2017, 06:00 <br\\>\n",
    "**Штраф за опоздание:** -2 балла после 06:00 18 октября, -4 балла после 06:00 25 октября, -6 баллов после 06:00 1 ноября\n",
    "\n",
    "При отправлении ДЗ указывайте фамилию в названии файла\n",
    "Присылать ДЗ необходимо в виде ссылки на свой github репозиторий в slack @alkhamush\n",
    "\n",
    "Необходимо в slack создать таск в приватный чат:\n",
    "/todo Фамилия Имя ссылка на гитхаб @alkhamush\n",
    "Пример:\n",
    "/todo Ксения Стройкова https://github.com/stroykova/spheremailru/stroykova_hw1.ipynb @alkhamush\n",
    "Дополнительно нужно просто скинуть ссылку в slack в личный чат\n",
    "\n",
    "Используйте данный Ipython Notebook при оформлении домашнего задания."
   ]
  },
  {
   "cell_type": "markdown",
   "metadata": {},
   "source": [
    "###### Задание 1 (2 баллов)\n",
    "Реализовать KNN в классе MyKNeighborsClassifier (обязательное условие: точность не ниже sklearn реализации)\n",
    "Разберитесь самостоятельно, какая мера расстояния используется в KNeighborsClassifier дефолтно и реализуйте свой алгоритм именно с этой мерой. Самостоятельно разберитесь, как считается score из KNeighborsClassifier и реализуйте аналог в своём классе. Score не должен уступать значению KNN из sklearn\n",
    "\n",
    "###### Задание 2 (2 балла)\n",
    "Добиться скорости работы на fit,  predict и predict_proba сравнимой со sklearn для iris и mnist\n",
    "Для этого используем numpy\n",
    "\n",
    "###### Задание 3 (2 балла)\n",
    "Для iris найдите такой параметр n_neighbors, при котором выдаётся наилучший score. Нарисуйте график зависимости score от n_neighbors\n",
    "\n",
    "###### Задание 4 (3 балла)\n",
    "Добавить algorithm='kd_tree' в реализацию KNN (использовать KDTree из sklearn.neighbors). Значение n_neighbors нужно взять из задания 3. Добиться скорости работы на fit,  predict и predict_proba сравнимой со sklearn для iris и mnist\n",
    "Для этого используем numpy. Score не должен уступать значению KNN из sklearn\n",
    "\n",
    "###### Задание 5 (1 балла)\n",
    "Описать для чего нужны следующие библиотеки/классы/функции (список будет ниже)\n",
    "\n",
    "**Штрафные баллы:**\n",
    "\n",
    "1. Невыполнение PEP8 -1 балл\n",
    "2. Отсутствие фамилии в имени скрипта (скрипт должен называться по аналогии со stroykova_hw1.ipynb) -1 балл\n",
    "3. Все строчки должны быть выполнены. Нужно, чтобы output команды можно было увидеть уже в git'е. В противном случае -1 балл\n",
    "4. При оформлении ДЗ нужно пользоваться данным файлом в качестве шаблона. Не нужно удалять и видоизменять структуру кода и текст. В противном случае -1 балл\n"
   ]
  },
  {
   "cell_type": "code",
   "execution_count": 29,
   "metadata": {},
   "outputs": [],
   "source": [
    "import numpy as np\n",
    "import matplotlib.pyplot as plt\n",
    "\n",
    "import seaborn as sns\n",
    "from sklearn import datasets\n",
    "from sklearn.base import ClassifierMixin\n",
    "from sklearn.datasets import fetch_mldata\n",
    "from sklearn.neighbors.base import NeighborsBase, KNeighborsMixin, SupervisedIntegerMixin \n",
    "from sklearn.model_selection import train_test_split\n",
    "from sklearn.neighbors import KNeighborsClassifier, KDTree\n",
    "#load_ext pycodestyle_magic"
   ]
  },
  {
   "cell_type": "code",
   "execution_count": 30,
   "metadata": {},
   "outputs": [],
   "source": [
    "#%%pycodestyle\n",
    "\n",
    "class MyKNeighborsClassifier(NeighborsBase,\n",
    "                             KNeighborsMixin,\n",
    "                             SupervisedIntegerMixin, \n",
    "                             ClassifierMixin):\n",
    "    \n",
    "    def __init__(self, n_neighbors=5, algorithm='brute'):\n",
    "        self.neighbors  = n_neighbors\n",
    "        self.algorithm = algorithm\n",
    "    \n",
    "    def fit(self, X, y):\n",
    "        self.X = np.copy(X).astype(float)\n",
    "        self.y = np.copy(y).astype(int)\n",
    "        self.sqr_X = (self.X ** 2).sum(axis=1)\n",
    "        self.classes = np.unique(y)\n",
    "        \n",
    "    def predict(self, X):\n",
    "        if self.algorithm == 'brute':\n",
    "            sqr_x = (X ** 2).sum(axis=1)\n",
    "            mul_x = np.dot(X, self.X.T)\n",
    "            sqr_dist  = sqr_x.reshape(-1, 1) + self.sqr_X - 2 * mul_x \n",
    "            i = sqr_dist.argsort(axis=1)[:, :self.neighbors]\n",
    "        if self.algorithm == 'kd_tree':\n",
    "            tree = KDTree(self.X, leaf_size = 70)\n",
    "            d, i = tree.query(X, k=self.neighbors)\n",
    "        predict = self.y[i]\n",
    "        return np.array([np.bincount(predict[i]).argmax()\n",
    "                         for i in range(predict.shape[0])], dtype = int)\n",
    "        \n",
    "    def predict_proba(self, X):\n",
    "        if self.algorithm == 'brute':\n",
    "            sqr_x = (X ** 2).sum(axis=1)\n",
    "            mul_x = np.dot(X, self.X.T)\n",
    "            sqr_dist  = sqr_x.reshape(-1, 1) + self.sqr_X - 2 * mul_x\n",
    "            i = sqr_dist.argsort(axis=1)[:, :self.neighbors]\n",
    "        if self.algorithm == 'kd_tree':\n",
    "            tree = KDTree(self.X, leaf_size = 50)\n",
    "            d, i = tree.query(X, k=self.neighbors) \n",
    "        predict = self.y[i]\n",
    "        kol_obj = X.shape[0]\n",
    "        kol_classes = self.classes.shape[0]\n",
    "        pred = np.zeros((kol_obj, kol_classes))            \n",
    "        for i in range(kol_obj):\n",
    "            classes, counts = np.unique(predict[i], return_counts=True)\n",
    "            pred[i][classes] = counts;  \n",
    "        return pred / self.neighbors\n",
    "    \n",
    "    def score(self, X, y):\n",
    "        return np.mean(y == self.predict(X))"
   ]
  },
  {
   "cell_type": "markdown",
   "metadata": {},
   "source": [
    "**IRIS**"
   ]
  },
  {
   "cell_type": "code",
   "execution_count": 59,
   "metadata": {},
   "outputs": [],
   "source": [
    "iris = datasets.load_iris()"
   ]
  },
  {
   "cell_type": "code",
   "execution_count": 60,
   "metadata": {},
   "outputs": [],
   "source": [
    "X_train, X_test, y_train, y_test = train_test_split(iris.data, iris.target, test_size=0.1, stratify=iris.target)"
   ]
  },
  {
   "cell_type": "code",
   "execution_count": 61,
   "metadata": {},
   "outputs": [],
   "source": [
    "clf = KNeighborsClassifier(n_neighbors=2)\n",
    "my_clf = MyKNeighborsClassifier(n_neighbors=2)"
   ]
  },
  {
   "cell_type": "code",
   "execution_count": 62,
   "metadata": {},
   "outputs": [
    {
     "name": "stdout",
     "output_type": "stream",
     "text": [
      "Wall time: 992 µs\n"
     ]
    },
    {
     "data": {
      "text/plain": [
       "KNeighborsClassifier(algorithm='auto', leaf_size=30, metric='minkowski',\n",
       "           metric_params=None, n_jobs=1, n_neighbors=2, p=2,\n",
       "           weights='uniform')"
      ]
     },
     "execution_count": 62,
     "metadata": {},
     "output_type": "execute_result"
    }
   ],
   "source": [
    "%time clf.fit(X_train, y_train)"
   ]
  },
  {
   "cell_type": "code",
   "execution_count": 63,
   "metadata": {},
   "outputs": [
    {
     "name": "stdout",
     "output_type": "stream",
     "text": [
      "Wall time: 495 µs\n"
     ]
    }
   ],
   "source": [
    "%time my_clf.fit(X_train, y_train)"
   ]
  },
  {
   "cell_type": "code",
   "execution_count": 64,
   "metadata": {},
   "outputs": [
    {
     "name": "stdout",
     "output_type": "stream",
     "text": [
      "Wall time: 993 µs\n"
     ]
    },
    {
     "data": {
      "text/plain": [
       "array([1, 0, 0, 2, 1, 1, 1, 2, 2, 0, 0, 1, 2, 1, 0])"
      ]
     },
     "execution_count": 64,
     "metadata": {},
     "output_type": "execute_result"
    }
   ],
   "source": [
    "%time clf.predict(X_test)"
   ]
  },
  {
   "cell_type": "code",
   "execution_count": 65,
   "metadata": {},
   "outputs": [
    {
     "name": "stdout",
     "output_type": "stream",
     "text": [
      "Wall time: 494 µs\n"
     ]
    },
    {
     "data": {
      "text/plain": [
       "array([1, 0, 0, 2, 1, 1, 1, 2, 2, 0, 0, 1, 2, 1, 0])"
      ]
     },
     "execution_count": 65,
     "metadata": {},
     "output_type": "execute_result"
    }
   ],
   "source": [
    "%time my_clf.predict(X_test)"
   ]
  },
  {
   "cell_type": "code",
   "execution_count": 66,
   "metadata": {},
   "outputs": [
    {
     "name": "stdout",
     "output_type": "stream",
     "text": [
      "Wall time: 1.49 ms\n"
     ]
    },
    {
     "data": {
      "text/plain": [
       "array([[0. , 0.5, 0.5],\n",
       "       [1. , 0. , 0. ],\n",
       "       [1. , 0. , 0. ],\n",
       "       [0. , 0. , 1. ],\n",
       "       [0. , 1. , 0. ],\n",
       "       [0. , 1. , 0. ],\n",
       "       [0. , 1. , 0. ],\n",
       "       [0. , 0. , 1. ],\n",
       "       [0. , 0. , 1. ],\n",
       "       [1. , 0. , 0. ],\n",
       "       [1. , 0. , 0. ],\n",
       "       [0. , 1. , 0. ],\n",
       "       [0. , 0. , 1. ],\n",
       "       [0. , 1. , 0. ],\n",
       "       [1. , 0. , 0. ]])"
      ]
     },
     "execution_count": 66,
     "metadata": {},
     "output_type": "execute_result"
    }
   ],
   "source": [
    "%time clf.predict_proba(X_test)"
   ]
  },
  {
   "cell_type": "code",
   "execution_count": 68,
   "metadata": {},
   "outputs": [
    {
     "name": "stdout",
     "output_type": "stream",
     "text": [
      "Wall time: 1.49 ms\n"
     ]
    },
    {
     "data": {
      "text/plain": [
       "array([[0. , 0.5, 0.5],\n",
       "       [1. , 0. , 0. ],\n",
       "       [1. , 0. , 0. ],\n",
       "       [0. , 0. , 1. ],\n",
       "       [0. , 1. , 0. ],\n",
       "       [0. , 1. , 0. ],\n",
       "       [0. , 1. , 0. ],\n",
       "       [0. , 0. , 1. ],\n",
       "       [0. , 0. , 1. ],\n",
       "       [1. , 0. , 0. ],\n",
       "       [1. , 0. , 0. ],\n",
       "       [0. , 1. , 0. ],\n",
       "       [0. , 0. , 1. ],\n",
       "       [0. , 1. , 0. ],\n",
       "       [1. , 0. , 0. ]])"
      ]
     },
     "execution_count": 68,
     "metadata": {},
     "output_type": "execute_result"
    }
   ],
   "source": [
    "%time my_clf.predict_proba(X_test)"
   ]
  },
  {
   "cell_type": "code",
   "execution_count": 69,
   "metadata": {},
   "outputs": [
    {
     "data": {
      "text/plain": [
       "0.9333333333333333"
      ]
     },
     "execution_count": 69,
     "metadata": {},
     "output_type": "execute_result"
    }
   ],
   "source": [
    "clf.score(X_test, y_test)"
   ]
  },
  {
   "cell_type": "code",
   "execution_count": 70,
   "metadata": {},
   "outputs": [
    {
     "data": {
      "text/plain": [
       "0.9333333333333333"
      ]
     },
     "execution_count": 70,
     "metadata": {},
     "output_type": "execute_result"
    }
   ],
   "source": [
    "my_clf.score(X_test, y_test)"
   ]
  },
  {
   "cell_type": "markdown",
   "metadata": {},
   "source": [
    "Задание 3"
   ]
  },
  {
   "cell_type": "code",
   "execution_count": 71,
   "metadata": {
    "scrolled": true
   },
   "outputs": [
    {
     "data": {
      "image/png": "[encoded data removed]",
      "text/plain": [
       "<Figure size 576x288 with 1 Axes>"
      ]
     },
     "metadata": {},
     "output_type": "display_data"
    }
   ],
   "source": [
    "fig  = plt.figure(figsize = (8, 4))\n",
    "ax = plt.subplot(111)\n",
    "\n",
    "n_neighbors = 30\n",
    "score = list()\n",
    "iters = 1000\n",
    "for i in range(1,n_neighbors+1):\n",
    "    scores_all = 0\n",
    "    for j in range(iters):\n",
    "        X_train, X_test, y_train, y_test = train_test_split(\n",
    "            iris.data,\n",
    "            iris.target,\n",
    "            test_size=0.1,\n",
    "            stratify=iris.target\n",
    "            )\n",
    "        my_knn = MyKNeighborsClassifier(n_neighbors=i)\n",
    "        my_knn.fit(X_train, y_train)\n",
    "        scores_all  += my_knn.score(X_test, y_test)\n",
    "    score.append(float(scores_all) / iters)\n",
    "    \n",
    "ax.plot(range(0,n_neighbors), score, 'green')\n",
    "ax.set_xlabel(\"neighbors\")\n",
    "ax.set_ylabel(\"scores\")\n",
    "ax.grid()\n"
   ]
  },
  {
   "cell_type": "code",
   "execution_count": 72,
   "metadata": {},
   "outputs": [
    {
     "name": "stdout",
     "output_type": "stream",
     "text": [
      "14\n"
     ]
    }
   ],
   "source": [
    "print(np.array(score).argmax() + 1)"
   ]
  },
  {
   "cell_type": "markdown",
   "metadata": {},
   "source": [
    "**MNIST**"
   ]
  },
  {
   "cell_type": "code",
   "execution_count": 73,
   "metadata": {},
   "outputs": [],
   "source": [
    "mnist = fetch_mldata('MNIST original')"
   ]
  },
  {
   "cell_type": "code",
   "execution_count": 74,
   "metadata": {},
   "outputs": [],
   "source": [
    "X_train, X_test, y_train, y_test = train_test_split(mnist.data, mnist.target, test_size=0.01, stratify=mnist.target)"
   ]
  },
  {
   "cell_type": "code",
   "execution_count": 75,
   "metadata": {},
   "outputs": [],
   "source": [
    "clf = KNeighborsClassifier(n_neighbors=2)\n",
    "my_clf = MyKNeighborsClassifier(n_neighbors=2)"
   ]
  },
  {
   "cell_type": "code",
   "execution_count": 76,
   "metadata": {},
   "outputs": [
    {
     "name": "stdout",
     "output_type": "stream",
     "text": [
      "Wall time: 33.2 s\n"
     ]
    },
    {
     "data": {
      "text/plain": [
       "KNeighborsClassifier(algorithm='auto', leaf_size=30, metric='minkowski',\n",
       "           metric_params=None, n_jobs=1, n_neighbors=2, p=2,\n",
       "           weights='uniform')"
      ]
     },
     "execution_count": 76,
     "metadata": {},
     "output_type": "execute_result"
    }
   ],
   "source": [
    "%time clf.fit(X_train, y_train)"
   ]
  },
  {
   "cell_type": "code",
   "execution_count": 77,
   "metadata": {},
   "outputs": [
    {
     "name": "stdout",
     "output_type": "stream",
     "text": [
      "Wall time: 529 ms\n"
     ]
    }
   ],
   "source": [
    "%time my_clf.fit(X_train, y_train)"
   ]
  },
  {
   "cell_type": "code",
   "execution_count": 78,
   "metadata": {
    "scrolled": true
   },
   "outputs": [
    {
     "name": "stdout",
     "output_type": "stream",
     "text": [
      "Wall time: 1min 18s\n"
     ]
    },
    {
     "data": {
      "text/plain": [
       "array([4., 1., 2., 7., 3., 9., 3., 2., 9., 2., 8., 2., 5., 7., 4., 8., 8.,\n",
       "       3., 0., 6., 0., 5., 4., 9., 1., 2., 8., 8., 5., 8., 2., 6., 5., 2.,\n",
       "       9., 7., 9., 5., 1., 1., 1., 2., 2., 4., 1., 9., 1., 3., 4., 6., 6.,\n",
       "       1., 7., 0., 3., 1., 3., 3., 1., 4., 9., 4., 0., 5., 2., 8., 0., 5.,\n",
       "       3., 6., 9., 8., 6., 3., 0., 2., 5., 9., 7., 6., 8., 9., 8., 6., 6.,\n",
       "       1., 5., 8., 6., 6., 1., 1., 7., 3., 3., 4., 5., 1., 8., 1., 4., 1.,\n",
       "       8., 8., 6., 0., 6., 7., 9., 7., 1., 2., 5., 8., 7., 8., 5., 2., 8.,\n",
       "       3., 8., 4., 8., 1., 0., 8., 0., 9., 1., 2., 0., 3., 6., 7., 0., 6.,\n",
       "       5., 2., 7., 3., 7., 4., 2., 6., 4., 9., 2., 6., 3., 4., 0., 2., 3.,\n",
       "       4., 4., 4., 1., 8., 4., 1., 8., 0., 2., 7., 2., 7., 1., 8., 8., 9.,\n",
       "       1., 9., 0., 3., 9., 0., 3., 6., 4., 5., 5., 5., 8., 5., 6., 5., 3.,\n",
       "       9., 9., 5., 2., 2., 7., 9., 0., 9., 7., 8., 5., 5., 9., 7., 0., 0.,\n",
       "       3., 1., 0., 9., 4., 9., 6., 9., 0., 3., 8., 9., 7., 8., 9., 3., 9.,\n",
       "       1., 3., 9., 3., 2., 6., 5., 3., 1., 6., 7., 3., 0., 0., 0., 0., 1.,\n",
       "       2., 0., 7., 1., 3., 9., 1., 4., 2., 6., 9., 9., 1., 3., 7., 7., 6.,\n",
       "       3., 0., 3., 8., 5., 3., 5., 2., 6., 1., 7., 6., 4., 6., 4., 7., 4.,\n",
       "       8., 3., 2., 1., 2., 2., 5., 6., 9., 6., 3., 5., 7., 9., 1., 7., 7.,\n",
       "       9., 2., 8., 0., 7., 8., 3., 1., 3., 6., 8., 4., 1., 5., 7., 7., 4.,\n",
       "       5., 1., 2., 0., 0., 0., 4., 8., 1., 2., 5., 0., 7., 8., 2., 4., 1.,\n",
       "       9., 3., 3., 0., 1., 7., 9., 8., 5., 3., 1., 5., 6., 9., 6., 3., 7.,\n",
       "       2., 4., 2., 8., 7., 3., 3., 3., 7., 3., 0., 9., 9., 0., 9., 8., 9.,\n",
       "       9., 1., 4., 3., 2., 8., 7., 9., 9., 7., 9., 3., 2., 6., 0., 1., 1.,\n",
       "       2., 1., 9., 7., 1., 0., 9., 6., 2., 3., 0., 0., 5., 1., 4., 6., 7.,\n",
       "       9., 1., 7., 8., 2., 4., 3., 5., 5., 2., 0., 7., 9., 0., 4., 3., 6.,\n",
       "       1., 4., 2., 4., 4., 6., 0., 6., 0., 2., 6., 1., 4., 9., 4., 0., 2.,\n",
       "       6., 8., 9., 3., 1., 4., 8., 5., 8., 8., 4., 2., 2., 6., 2., 1., 1.,\n",
       "       4., 9., 9., 2., 1., 7., 7., 5., 4., 4., 1., 5., 6., 6., 5., 6., 1.,\n",
       "       0., 7., 6., 1., 6., 1., 2., 2., 8., 9., 4., 0., 6., 0., 9., 5., 6.,\n",
       "       7., 6., 0., 6., 2., 0., 0., 5., 3., 5., 0., 3., 1., 4., 4., 5., 4.,\n",
       "       5., 0., 5., 7., 4., 5., 0., 7., 3., 7., 4., 3., 3., 6., 5., 4., 1.,\n",
       "       0., 1., 7., 6., 2., 2., 0., 1., 9., 7., 5., 6., 3., 6., 3., 8., 2.,\n",
       "       3., 9., 1., 1., 9., 2., 9., 8., 6., 5., 4., 0., 0., 1., 5., 2., 3.,\n",
       "       4., 1., 5., 0., 7., 7., 5., 2., 2., 4., 3., 7., 5., 5., 5., 2., 6.,\n",
       "       1., 5., 3., 1., 0., 2., 8., 3., 6., 9., 8., 9., 0., 6., 7., 6., 3.,\n",
       "       2., 7., 4., 7., 0., 8., 1., 3., 1., 5., 7., 4., 3., 2., 1., 5., 4.,\n",
       "       8., 7., 1., 4., 9., 4., 1., 6., 5., 7., 2., 0., 0., 3., 7., 2., 0.,\n",
       "       9., 8., 8., 3., 3., 5., 1., 2., 7., 5., 0., 9., 3., 0., 7., 0., 1.,\n",
       "       4., 6., 8., 7., 2., 1., 7., 8., 1., 6., 2., 3., 8., 9., 8., 3., 1.,\n",
       "       0., 8., 7., 8., 4., 6., 7., 3., 1., 7., 3., 1., 2., 6., 4., 4., 6.,\n",
       "       4., 2., 7., 8., 4., 8., 8., 8., 1., 4., 8., 6., 0., 8., 8., 7., 5.,\n",
       "       4., 9., 4., 0., 0., 5., 5., 7., 6., 9., 4., 4., 1., 1., 9., 9., 1.,\n",
       "       8., 7., 5.])"
      ]
     },
     "execution_count": 78,
     "metadata": {},
     "output_type": "execute_result"
    }
   ],
   "source": [
    "%time clf.predict(X_test)"
   ]
  },
  {
   "cell_type": "code",
   "execution_count": 79,
   "metadata": {
    "scrolled": true
   },
   "outputs": [
    {
     "name": "stdout",
     "output_type": "stream",
     "text": [
      "Wall time: 6.71 s\n"
     ]
    },
    {
     "data": {
      "text/plain": [
       "array([4, 1, 2, 7, 3, 9, 3, 2, 9, 2, 8, 2, 5, 7, 4, 8, 8, 3, 0, 6, 0, 5,\n",
       "       4, 9, 1, 2, 8, 8, 5, 8, 2, 6, 5, 2, 9, 7, 9, 5, 1, 1, 1, 2, 2, 4,\n",
       "       1, 9, 1, 3, 4, 6, 6, 1, 7, 0, 3, 1, 3, 3, 1, 4, 9, 4, 0, 5, 2, 8,\n",
       "       0, 5, 3, 6, 9, 8, 6, 3, 0, 2, 5, 9, 7, 6, 8, 9, 8, 6, 6, 1, 5, 8,\n",
       "       6, 6, 1, 1, 7, 3, 3, 4, 5, 1, 8, 1, 4, 1, 8, 8, 6, 0, 6, 7, 9, 7,\n",
       "       1, 2, 5, 8, 7, 8, 5, 2, 8, 3, 8, 4, 8, 1, 0, 8, 0, 9, 1, 2, 0, 3,\n",
       "       6, 7, 0, 6, 5, 2, 7, 3, 7, 4, 2, 6, 4, 9, 2, 6, 3, 4, 0, 2, 3, 4,\n",
       "       4, 4, 1, 8, 4, 1, 8, 0, 2, 7, 2, 7, 1, 8, 8, 9, 1, 9, 0, 3, 9, 0,\n",
       "       3, 6, 4, 5, 5, 5, 8, 5, 6, 5, 3, 9, 9, 5, 2, 2, 7, 9, 0, 9, 7, 8,\n",
       "       5, 5, 9, 7, 0, 0, 3, 1, 0, 9, 4, 9, 6, 9, 0, 3, 8, 9, 7, 8, 9, 3,\n",
       "       9, 1, 3, 9, 3, 2, 6, 5, 3, 1, 6, 7, 3, 0, 0, 0, 0, 1, 2, 0, 7, 1,\n",
       "       3, 9, 1, 4, 2, 6, 9, 9, 1, 3, 7, 7, 6, 3, 0, 3, 8, 5, 3, 5, 2, 6,\n",
       "       1, 7, 6, 4, 6, 4, 7, 4, 8, 3, 2, 1, 2, 2, 5, 6, 9, 6, 3, 5, 7, 9,\n",
       "       1, 7, 7, 9, 2, 8, 0, 7, 8, 3, 1, 3, 6, 8, 4, 1, 5, 7, 7, 4, 5, 1,\n",
       "       2, 0, 0, 0, 4, 8, 1, 2, 5, 0, 7, 8, 2, 4, 1, 9, 3, 3, 0, 1, 7, 9,\n",
       "       8, 5, 3, 1, 5, 6, 9, 6, 3, 7, 2, 4, 2, 8, 7, 3, 3, 3, 7, 3, 0, 9,\n",
       "       9, 0, 9, 8, 9, 9, 1, 4, 3, 2, 8, 7, 9, 9, 7, 9, 3, 2, 6, 0, 1, 1,\n",
       "       2, 1, 9, 7, 1, 0, 9, 6, 2, 3, 0, 0, 5, 1, 4, 6, 7, 9, 1, 7, 8, 2,\n",
       "       4, 3, 5, 5, 2, 0, 7, 9, 0, 4, 3, 6, 1, 4, 2, 4, 4, 6, 0, 6, 0, 2,\n",
       "       6, 1, 4, 9, 4, 0, 2, 6, 8, 9, 3, 1, 4, 8, 5, 8, 8, 4, 2, 2, 6, 2,\n",
       "       1, 1, 4, 9, 9, 2, 1, 7, 7, 5, 4, 4, 1, 5, 6, 6, 5, 6, 1, 0, 7, 6,\n",
       "       1, 6, 1, 2, 2, 8, 9, 4, 0, 6, 0, 9, 5, 6, 7, 6, 0, 6, 2, 0, 0, 5,\n",
       "       3, 5, 0, 3, 1, 4, 4, 5, 4, 5, 0, 5, 7, 4, 5, 0, 7, 3, 7, 4, 3, 3,\n",
       "       6, 5, 4, 1, 0, 1, 7, 6, 2, 2, 0, 1, 9, 7, 5, 6, 3, 6, 3, 8, 2, 3,\n",
       "       9, 1, 1, 9, 2, 9, 8, 6, 5, 4, 0, 0, 1, 5, 2, 3, 4, 1, 5, 0, 7, 7,\n",
       "       5, 2, 2, 4, 3, 7, 5, 5, 5, 2, 6, 1, 5, 3, 1, 0, 2, 8, 3, 6, 9, 8,\n",
       "       9, 0, 6, 7, 6, 3, 2, 7, 4, 7, 0, 8, 1, 3, 1, 5, 7, 4, 3, 2, 1, 5,\n",
       "       4, 8, 7, 1, 4, 9, 4, 1, 6, 5, 7, 2, 0, 0, 3, 7, 2, 0, 9, 8, 8, 3,\n",
       "       3, 5, 1, 2, 7, 5, 0, 9, 3, 0, 7, 0, 1, 4, 6, 8, 7, 2, 1, 7, 8, 1,\n",
       "       6, 2, 3, 8, 9, 8, 3, 1, 0, 8, 7, 8, 4, 6, 7, 3, 1, 7, 3, 1, 2, 6,\n",
       "       4, 4, 6, 4, 2, 7, 8, 4, 8, 8, 8, 1, 4, 8, 6, 0, 8, 8, 7, 5, 4, 9,\n",
       "       4, 0, 0, 5, 5, 7, 6, 9, 4, 4, 1, 1, 9, 9, 1, 8, 7, 5])"
      ]
     },
     "execution_count": 79,
     "metadata": {},
     "output_type": "execute_result"
    }
   ],
   "source": [
    "%time my_clf.predict(X_test)"
   ]
  },
  {
   "cell_type": "code",
   "execution_count": 80,
   "metadata": {},
   "outputs": [
    {
     "name": "stdout",
     "output_type": "stream",
     "text": [
      "Wall time: 1min 27s\n"
     ]
    },
    {
     "data": {
      "text/plain": [
       "array([[0. , 0. , 0. , ..., 0. , 0. , 0. ],\n",
       "       [0. , 0.5, 0. , ..., 0. , 0. , 0. ],\n",
       "       [0. , 0. , 1. , ..., 0. , 0. , 0. ],\n",
       "       ...,\n",
       "       [0. , 0. , 0. , ..., 0. , 1. , 0. ],\n",
       "       [0. , 0. , 0. , ..., 1. , 0. , 0. ],\n",
       "       [0. , 0. , 0. , ..., 0. , 0. , 0. ]])"
      ]
     },
     "execution_count": 80,
     "metadata": {},
     "output_type": "execute_result"
    }
   ],
   "source": [
    "%time clf.predict_proba(X_test)"
   ]
  },
  {
   "cell_type": "code",
   "execution_count": 81,
   "metadata": {},
   "outputs": [
    {
     "name": "stdout",
     "output_type": "stream",
     "text": [
      "Wall time: 6.97 s\n"
     ]
    },
    {
     "data": {
      "text/plain": [
       "array([[0. , 0. , 0. , ..., 0. , 0. , 0. ],\n",
       "       [0. , 0.5, 0. , ..., 0. , 0. , 0. ],\n",
       "       [0. , 0. , 1. , ..., 0. , 0. , 0. ],\n",
       "       ...,\n",
       "       [0. , 0. , 0. , ..., 0. , 1. , 0. ],\n",
       "       [0. , 0. , 0. , ..., 1. , 0. , 0. ],\n",
       "       [0. , 0. , 0. , ..., 0. , 0. , 0. ]])"
      ]
     },
     "execution_count": 81,
     "metadata": {},
     "output_type": "execute_result"
    }
   ],
   "source": [
    "%time my_clf.predict_proba(X_test)"
   ]
  },
  {
   "cell_type": "code",
   "execution_count": 82,
   "metadata": {},
   "outputs": [
    {
     "data": {
      "text/plain": [
       "0.9757142857142858"
      ]
     },
     "execution_count": 82,
     "metadata": {},
     "output_type": "execute_result"
    }
   ],
   "source": [
    "clf.score(X_test, y_test)"
   ]
  },
  {
   "cell_type": "code",
   "execution_count": 83,
   "metadata": {},
   "outputs": [
    {
     "data": {
      "text/plain": [
       "0.9757142857142858"
      ]
     },
     "execution_count": 83,
     "metadata": {},
     "output_type": "execute_result"
    }
   ],
   "source": [
    "my_clf.score(X_test, y_test)"
   ]
  },
  {
   "cell_type": "markdown",
   "metadata": {},
   "source": [
    "Задание 4"
   ]
  },
  {
   "cell_type": "code",
   "execution_count": 34,
   "metadata": {},
   "outputs": [],
   "source": [
    "clf = KNeighborsClassifier(n_neighbors=2, algorithm='kd_tree')\n",
    "my_clf = MyKNeighborsClassifier(n_neighbors=2, algorithm='kd_tree')"
   ]
  },
  {
   "cell_type": "code",
   "execution_count": 35,
   "metadata": {},
   "outputs": [],
   "source": [
    "X_train, X_test, y_train, y_test = train_test_split(mnist.data, mnist.target, test_size=0.01, stratify=mnist.target)"
   ]
  },
  {
   "cell_type": "code",
   "execution_count": 40,
   "metadata": {},
   "outputs": [
    {
     "name": "stdout",
     "output_type": "stream",
     "text": [
      "Wall time: 37.3 s\n"
     ]
    },
    {
     "data": {
      "text/plain": [
       "KNeighborsClassifier(algorithm='kd_tree', leaf_size=30, metric='minkowski',\n",
       "           metric_params=None, n_jobs=1, n_neighbors=2, p=2,\n",
       "           weights='uniform')"
      ]
     },
     "execution_count": 40,
     "metadata": {},
     "output_type": "execute_result"
    }
   ],
   "source": [
    "%time clf.fit(X_train, y_train)"
   ]
  },
  {
   "cell_type": "code",
   "execution_count": 36,
   "metadata": {},
   "outputs": [
    {
     "name": "stdout",
     "output_type": "stream",
     "text": [
      "Wall time: 775 ms\n"
     ]
    }
   ],
   "source": [
    "%time my_clf.fit(X_train, y_train)"
   ]
  },
  {
   "cell_type": "code",
   "execution_count": 45,
   "metadata": {},
   "outputs": [
    {
     "name": "stdout",
     "output_type": "stream",
     "text": [
      "Wall time: 1min 37s\n"
     ]
    },
    {
     "data": {
      "text/plain": [
       "array([7., 7., 5., 2., 9., 4., 1., 5., 4., 5., 6., 6., 4., 9., 2., 0., 0.,\n",
       "       3., 3., 3., 9., 5., 0., 0., 5., 2., 6., 8., 9., 8., 1., 2., 4., 2.,\n",
       "       7., 8., 9., 2., 4., 0., 7., 5., 4., 6., 8., 9., 3., 9., 2., 9., 8.,\n",
       "       7., 6., 6., 9., 1., 6., 6., 8., 1., 1., 4., 1., 9., 5., 7., 6., 1.,\n",
       "       1., 5., 6., 6., 8., 3., 2., 2., 1., 2., 7., 8., 0., 9., 7., 2., 9.,\n",
       "       1., 8., 5., 0., 9., 4., 5., 6., 4., 3., 8., 1., 5., 1., 1., 3., 6.,\n",
       "       0., 0., 1., 8., 9., 7., 1., 0., 7., 2., 3., 6., 7., 8., 2., 7., 9.,\n",
       "       6., 5., 7., 0., 4., 4., 1., 7., 0., 7., 1., 0., 1., 8., 6., 2., 8.,\n",
       "       8., 1., 5., 1., 7., 0., 8., 2., 1., 8., 8., 1., 1., 2., 0., 4., 5.,\n",
       "       0., 4., 4., 8., 1., 7., 3., 4., 3., 2., 6., 1., 5., 1., 3., 7., 5.,\n",
       "       4., 1., 6., 3., 4., 1., 9., 0., 0., 7., 2., 0., 0., 9., 8., 4., 1.,\n",
       "       9., 2., 3., 5., 9., 1., 1., 5., 1., 9., 2., 2., 6., 0., 7., 3., 5.,\n",
       "       0., 6., 3., 4., 1., 8., 5., 4., 7., 7., 2., 1., 9., 7., 7., 8., 7.,\n",
       "       8., 3., 7., 2., 3., 7., 7., 5., 6., 7., 0., 8., 7., 6., 7., 2., 9.,\n",
       "       9., 4., 1., 2., 6., 0., 6., 3., 4., 7., 8., 7., 4., 3., 2., 5., 2.,\n",
       "       3., 4., 5., 1., 1., 4., 6., 2., 9., 7., 1., 6., 1., 1., 0., 4., 2.,\n",
       "       9., 7., 2., 1., 7., 1., 7., 1., 2., 3., 0., 1., 7., 9., 4., 5., 3.,\n",
       "       5., 6., 1., 9., 4., 5., 4., 8., 9., 8., 3., 3., 2., 0., 0., 9., 3.,\n",
       "       8., 3., 1., 0., 5., 3., 2., 1., 5., 9., 8., 7., 2., 6., 7., 5., 5.,\n",
       "       3., 3., 0., 0., 1., 3., 4., 0., 3., 4., 0., 3., 8., 9., 4., 4., 3.,\n",
       "       1., 4., 0., 3., 3., 7., 0., 5., 0., 5., 1., 8., 3., 6., 0., 5., 2.,\n",
       "       7., 0., 5., 3., 8., 8., 9., 0., 1., 5., 8., 7., 5., 9., 1., 3., 1.,\n",
       "       5., 0., 2., 7., 5., 3., 2., 6., 9., 6., 7., 3., 0., 3., 9., 6., 7.,\n",
       "       3., 7., 1., 9., 1., 0., 7., 6., 5., 3., 0., 6., 1., 8., 2., 1., 1.,\n",
       "       0., 8., 7., 1., 2., 5., 6., 2., 8., 6., 6., 3., 4., 4., 2., 7., 8.,\n",
       "       1., 0., 2., 4., 4., 7., 3., 5., 0., 3., 2., 6., 4., 8., 3., 3., 0.,\n",
       "       3., 9., 3., 1., 7., 9., 6., 8., 5., 4., 3., 2., 2., 7., 9., 0., 1.,\n",
       "       6., 9., 1., 0., 5., 6., 0., 1., 2., 3., 1., 2., 5., 3., 1., 0., 9.,\n",
       "       0., 6., 9., 0., 8., 1., 8., 4., 0., 4., 8., 2., 0., 9., 7., 9., 6.,\n",
       "       1., 4., 0., 5., 6., 9., 2., 6., 5., 0., 2., 6., 9., 2., 7., 5., 4.,\n",
       "       7., 7., 3., 8., 6., 1., 9., 1., 6., 9., 1., 2., 5., 5., 1., 0., 8.,\n",
       "       8., 0., 2., 9., 9., 8., 1., 6., 5., 1., 7., 7., 7., 9., 9., 0., 9.,\n",
       "       0., 6., 3., 3., 7., 2., 2., 2., 4., 9., 9., 2., 1., 7., 3., 4., 7.,\n",
       "       9., 5., 3., 0., 4., 2., 9., 6., 5., 2., 2., 8., 1., 9., 7., 7., 3.,\n",
       "       4., 3., 1., 3., 0., 6., 6., 9., 3., 4., 3., 5., 4., 8., 0., 2., 5.,\n",
       "       5., 4., 8., 9., 4., 1., 9., 5., 1., 2., 8., 4., 2., 4., 6., 3., 5.,\n",
       "       6., 6., 2., 6., 8., 2., 9., 3., 5., 5., 7., 6., 4., 0., 6., 6., 8.,\n",
       "       7., 5., 4., 3., 6., 2., 4., 7., 7., 8., 0., 1., 4., 9., 0., 4., 3.,\n",
       "       7., 4., 9., 5., 5., 2., 3., 1., 4., 7., 7., 4., 0., 5., 2., 1., 8.,\n",
       "       9., 4., 6., 7., 8., 8., 0., 8., 1., 9., 3., 8., 3., 3., 0., 9., 2.,\n",
       "       6., 6., 0., 5., 4., 8., 0., 4., 6., 4., 6., 4., 7., 4., 3., 4., 8.,\n",
       "       6., 1., 2.])"
      ]
     },
     "execution_count": 45,
     "metadata": {},
     "output_type": "execute_result"
    }
   ],
   "source": [
    "%time clf.predict(X_test)"
   ]
  },
  {
   "cell_type": "code",
   "execution_count": 42,
   "metadata": {},
   "outputs": [
    {
     "name": "stdout",
     "output_type": "stream",
     "text": [
      "Wall time: 1min 38s\n"
     ]
    },
    {
     "data": {
      "text/plain": [
       "array([7, 7, 5, 2, 9, 4, 1, 5, 4, 5, 6, 6, 4, 9, 2, 0, 0, 3, 3, 3, 9, 5,\n",
       "       0, 0, 5, 2, 6, 8, 9, 8, 1, 2, 4, 2, 7, 8, 9, 2, 4, 0, 7, 5, 4, 6,\n",
       "       8, 9, 3, 9, 2, 9, 8, 7, 6, 6, 9, 1, 6, 6, 8, 1, 1, 4, 1, 9, 5, 7,\n",
       "       6, 1, 1, 5, 6, 6, 8, 3, 2, 2, 1, 2, 7, 8, 0, 9, 7, 2, 9, 1, 8, 5,\n",
       "       0, 9, 4, 5, 6, 4, 3, 8, 1, 5, 1, 1, 3, 6, 0, 0, 1, 8, 9, 7, 1, 0,\n",
       "       7, 2, 3, 6, 7, 8, 2, 7, 9, 6, 5, 7, 0, 4, 4, 1, 7, 0, 7, 1, 0, 1,\n",
       "       8, 6, 2, 8, 8, 1, 5, 1, 7, 0, 8, 2, 1, 8, 8, 1, 1, 2, 0, 4, 5, 0,\n",
       "       4, 4, 8, 1, 7, 3, 4, 3, 2, 6, 1, 5, 1, 3, 7, 5, 4, 1, 6, 3, 4, 1,\n",
       "       9, 0, 0, 7, 2, 0, 0, 9, 8, 4, 1, 9, 2, 3, 5, 9, 1, 1, 5, 1, 9, 2,\n",
       "       2, 6, 0, 7, 3, 5, 0, 6, 3, 4, 1, 8, 5, 4, 7, 7, 2, 1, 9, 7, 7, 8,\n",
       "       7, 8, 3, 7, 2, 3, 7, 7, 5, 6, 7, 0, 8, 7, 6, 7, 2, 9, 9, 4, 1, 2,\n",
       "       6, 0, 6, 3, 4, 7, 8, 7, 4, 3, 2, 5, 2, 3, 4, 5, 1, 1, 4, 6, 2, 9,\n",
       "       7, 1, 6, 1, 1, 0, 4, 2, 9, 7, 2, 1, 7, 1, 7, 1, 2, 3, 0, 1, 7, 9,\n",
       "       4, 5, 3, 5, 6, 1, 9, 4, 5, 4, 8, 9, 8, 3, 3, 2, 0, 0, 9, 3, 8, 3,\n",
       "       1, 0, 5, 3, 2, 1, 5, 9, 8, 7, 2, 6, 7, 5, 5, 3, 3, 0, 0, 1, 3, 4,\n",
       "       0, 3, 4, 0, 3, 8, 9, 4, 4, 3, 1, 4, 0, 3, 3, 7, 0, 5, 0, 5, 1, 8,\n",
       "       3, 6, 0, 5, 2, 7, 0, 5, 3, 8, 8, 9, 0, 1, 5, 8, 7, 5, 9, 1, 3, 1,\n",
       "       5, 0, 2, 7, 5, 3, 2, 6, 9, 6, 7, 3, 0, 3, 9, 6, 7, 3, 7, 1, 9, 1,\n",
       "       0, 7, 6, 5, 3, 0, 6, 1, 8, 2, 1, 1, 0, 8, 7, 1, 2, 5, 6, 2, 8, 6,\n",
       "       6, 3, 4, 4, 2, 7, 8, 1, 0, 2, 4, 4, 7, 3, 5, 0, 3, 2, 6, 4, 8, 3,\n",
       "       3, 0, 3, 9, 3, 1, 7, 9, 6, 8, 5, 4, 3, 2, 2, 7, 9, 0, 1, 6, 9, 1,\n",
       "       0, 5, 6, 0, 1, 2, 3, 1, 2, 5, 3, 1, 0, 9, 0, 6, 9, 0, 8, 1, 8, 4,\n",
       "       0, 4, 8, 2, 0, 9, 7, 9, 6, 1, 4, 0, 5, 6, 9, 2, 6, 5, 0, 2, 6, 9,\n",
       "       2, 7, 5, 4, 7, 7, 3, 8, 6, 1, 9, 1, 6, 9, 1, 2, 5, 5, 1, 0, 8, 8,\n",
       "       0, 2, 9, 9, 8, 1, 6, 5, 1, 7, 7, 7, 9, 9, 0, 9, 0, 6, 3, 3, 7, 2,\n",
       "       2, 2, 4, 9, 9, 2, 1, 7, 3, 4, 7, 9, 5, 3, 0, 4, 2, 9, 6, 5, 2, 2,\n",
       "       8, 1, 9, 7, 7, 3, 4, 3, 1, 3, 0, 6, 6, 9, 3, 4, 3, 5, 4, 8, 0, 2,\n",
       "       5, 5, 4, 8, 9, 4, 1, 9, 5, 1, 2, 8, 4, 2, 4, 6, 3, 5, 6, 6, 2, 6,\n",
       "       8, 2, 9, 3, 5, 5, 7, 6, 4, 0, 6, 6, 8, 7, 5, 4, 3, 6, 2, 4, 7, 7,\n",
       "       8, 0, 1, 4, 9, 0, 4, 3, 7, 4, 9, 5, 5, 2, 3, 1, 4, 7, 7, 4, 0, 5,\n",
       "       2, 1, 8, 9, 4, 6, 7, 8, 8, 0, 8, 1, 9, 3, 8, 3, 3, 0, 9, 2, 6, 6,\n",
       "       0, 5, 4, 8, 0, 4, 6, 4, 6, 4, 7, 4, 3, 4, 8, 6, 1, 2])"
      ]
     },
     "execution_count": 42,
     "metadata": {},
     "output_type": "execute_result"
    }
   ],
   "source": [
    "%time my_clf.predict(X_test)"
   ]
  },
  {
   "cell_type": "code",
   "execution_count": 48,
   "metadata": {},
   "outputs": [
    {
     "name": "stdout",
     "output_type": "stream",
     "text": [
      "Wall time: 1min 42s\n"
     ]
    },
    {
     "data": {
      "text/plain": [
       "array([[0., 0., 0., ..., 1., 0., 0.],\n",
       "       [0., 0., 0., ..., 1., 0., 0.],\n",
       "       [0., 0., 0., ..., 0., 0., 0.],\n",
       "       ...,\n",
       "       [0., 0., 0., ..., 0., 0., 0.],\n",
       "       [0., 1., 0., ..., 0., 0., 0.],\n",
       "       [0., 0., 1., ..., 0., 0., 0.]])"
      ]
     },
     "execution_count": 48,
     "metadata": {},
     "output_type": "execute_result"
    }
   ],
   "source": [
    "%time clf.predict_proba(X_test)"
   ]
  },
  {
   "cell_type": "code",
   "execution_count": 46,
   "metadata": {},
   "outputs": [
    {
     "name": "stdout",
     "output_type": "stream",
     "text": [
      "Wall time: 1min 44s\n"
     ]
    },
    {
     "data": {
      "text/plain": [
       "array([[0., 0., 0., ..., 1., 0., 0.],\n",
       "       [0., 0., 0., ..., 1., 0., 0.],\n",
       "       [0., 0., 0., ..., 0., 0., 0.],\n",
       "       ...,\n",
       "       [0., 0., 0., ..., 0., 0., 0.],\n",
       "       [0., 1., 0., ..., 0., 0., 0.],\n",
       "       [0., 0., 1., ..., 0., 0., 0.]])"
      ]
     },
     "execution_count": 46,
     "metadata": {},
     "output_type": "execute_result"
    }
   ],
   "source": [
    "%time my_clf.predict_proba(X_test)"
   ]
  },
  {
   "cell_type": "code",
   "execution_count": 49,
   "metadata": {},
   "outputs": [
    {
     "data": {
      "text/plain": [
       "0.9528571428571428"
      ]
     },
     "execution_count": 49,
     "metadata": {},
     "output_type": "execute_result"
    }
   ],
   "source": [
    "clf.score(X_test, y_test)"
   ]
  },
  {
   "cell_type": "code",
   "execution_count": 50,
   "metadata": {},
   "outputs": [
    {
     "data": {
      "text/plain": [
       "0.9528571428571428"
      ]
     },
     "execution_count": 50,
     "metadata": {},
     "output_type": "execute_result"
    }
   ],
   "source": [
    "my_clf.score(X_test, y_test)"
   ]
  },
  {
   "cell_type": "markdown",
   "metadata": {},
   "source": [
    "Задание 5"
   ]
  },
  {
   "cell_type": "code",
   "execution_count": null,
   "metadata": {},
   "outputs": [],
   "source": [
    "# seaborn - библиотека Python для визуализации данных, основанная на matplotlib \n",
    "# matplotlib - библиотека Python для визуализации данных c двумерной графикой.\n",
    "# train_test_split - функция для разделения матрицы данных на тестовую и тренировочную \n",
    "# выборки с заданным соотношением размеров\n",
    "# Pipelin%load_ext e (from sklearn.pipeline import Pipeline) - класс для последовательного выполнения \n",
    "# некоторых операций над данными\n",
    "# StandardScaler (from sklearn.preprocessing import StandardScaler) - класс для стандартизации набора данных\n",
    "# ClassifierMixin - класс для всех классификаторов в scikit-learn\n",
    "# NeighborsBase -  класс для оценок ближайших соседей\n",
    "# KNeighborsMixin - класс для поиска k ближайших соседей\n",
    "# SupervisedIntegerMixin - класс с методом fit(self, X, y), обучающий классификатор на данных X со значениями y"
   ]
  }
 ],
 "metadata": {
  "kernelspec": {
   "display_name": "Python 3",
   "language": "python",
   "name": "python3"
  },
  "language_info": {
   "codemirror_mode": {
    "name": "ipython",
    "version": 3
   },
   "file_extension": ".py",
   "mimetype": "text/x-python",
   "name": "python",
   "nbconvert_exporter": "python",
   "pygments_lexer": "ipython3",
   "version": "3.6.5"
  }
 },
 "nbformat": 4,
 "nbformat_minor": 2
}
