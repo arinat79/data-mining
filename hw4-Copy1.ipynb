{
 "cells": [
  {
   "cell_type": "markdown",
   "metadata": {},
   "source": [
    "# Алгоритмы интеллектуальной обработки больших объемов данных\n",
    "## Домашнее задание №4 - Метод k-средних, предобработка признаков\n"
   ]
  },
  {
   "cell_type": "markdown",
   "metadata": {},
   "source": [
    "###### <hr\\>\n",
    "**Общая информация**\n",
    "\n",
    "**Срок сдачи:** 28 ноября 2018, 06:00 <br\\>\n",
    "**Штраф за опоздание:** -2 балла после 06:00 28 ноября, -4 балла после 06:00 5 декабря, -6 баллов после 06:00 12 декабря, -8 баллов после 19 декабря\n",
    "\n",
    "При отправлении ДЗ указывайте фамилию в названии файла\n",
    "Присылать ДЗ необходимо в виде ссылки на свой github репозиторий в slack @alkhamush\n",
    "\n",
    "Необходимо в slack создать таск в приватный чат:\n",
    "/todo Фамилия Имя ссылка на гитхаб @alkhamush\n",
    "Пример:\n",
    "/todo Ксения Стройкова https://github.com/stroykova/spheremailru/stroykova_hw1.ipynb @alkhamush\n",
    "Дополнительно нужно просто скинуть ссылку в slack в личный чат\n",
    "\n",
    "Используйте данный Ipython Notebook при оформлении домашнего задания."
   ]
  },
  {
   "cell_type": "markdown",
   "metadata": {},
   "source": [
    "# Имплементация K-means\n",
    "\n",
    "Пользуясь наработками выше, имплементируйте метод k-means.  \n",
    "При инициализации необходимо задавать количество кластеров, функцию расстояния между кластерами (для оригинального k-means - евклидово расстояние) и начальное состояние генератора случайных чисел.\n",
    "\n",
    "После обучения, среди атрибутов класса `Kmeans` должны появится\n",
    "* Метки кластеров для объектов\n",
    "* Координаты центройдов кластеров\n",
    "\n",
    "k-means - это алгоритм **кластеризации**, а не классификации, а посему метод `.predict()` в нем фактически не нужен, но он может возвращать метки ближайшего кластера для объектов."
   ]
  },
  {
   "cell_type": "markdown",
   "metadata": {},
   "source": [
    "###### Задание 1 (2 баллов)\n",
    "Имплементируйте метод k-means. Задание считается выполненным, если Ваша реализация работает быстрее реализации из sklearn.\n",
    "\n",
    "Теория для выполнения задания 2 и 3 остаётся на самостоятельное изучение. Теории немного и она совсем простая.\n",
    "\n",
    "###### Задание 2 (2 балла)\n",
    "Имплементируйте класс MiniBatchKMeans, который является классом наследником Kmeans.\n",
    "\n",
    "###### Задание 3 (2 балла)\n",
    "Превратите k-means в k-means++. Для этого нужно реализовать метод в классе Kmeans, который будет инициализировать более \"хорошие\" значения центроидов. Чтобы использовался метод k-means++, в параметр init необходимо передать строковое значение 'k-means' (по умолчанию 'random').\n",
    "\n",
    "###### Задание 4 (2 балла)\n",
    "В пункте \"Проверка корректности метода\" нужно нарисовать графики, которые показывают зависимость времени выполнения алгоритма от количества сэмплов. Графики должны быть  нарисованы для различных комбинаций реализаций алгоритма (k-means, k-means++, k-means с MiniBatchKMeans, k-means++ с MiniBatchKMeans). График достаточно построить на 5-10 точках.\n",
    "\n",
    "###### Задание 5 (2 балла)\n",
    "В пункте \"Применение K-means на реальных данных\" нужно сравнить различные реализации k-means (k-means, k-means++, k-means с MiniBatchKMeans, k-means++ с MiniBatchKMeans). После чего написать вывод, в котором должно быть объяснение того, почему один алгоритм оказался лучше остальных или почему не было выявлено лучшего алгоритма.\n",
    "\n",
    "**Штрафные баллы:**\n",
    "\n",
    "1. Невыполнение PEP8 -1 балл\n",
    "2. Отсутствие фамилии в имени скрипта (скрипт должен называться по аналогии со stroykova_hw4.ipynb) -1 балл\n",
    "3. Все строчки должны быть выполнены. Нужно, чтобы output команды можно было увидеть уже в git'е. В противном случае -1 балл\n",
    "4. При оформлении ДЗ нужно пользоваться данным файлом в качестве шаблона. Не нужно удалять и видоизменять написанный код и текст. В противном случае -1 балл\n",
    "<hr\\>"
   ]
  },
  {
   "cell_type": "code",
   "execution_count": 1,
   "metadata": {},
   "outputs": [],
   "source": [
    "import pandas as pd\n",
    "import numpy as np\n",
    "import matplotlib.pyplot as plt\n",
    "\n",
    "%matplotlib inline\n",
    "\n",
    "plt.style.use('ggplot')\n",
    "plt.rcParams['figure.figsize'] = (12,5)\n",
    "\n",
    "#%load_ext pycodestyle_magic"
   ]
  },
  {
   "cell_type": "code",
   "execution_count": 2,
   "metadata": {},
   "outputs": [],
   "source": [
    "class MyKmeans:\n",
    "\n",
    "    def __init__(self, k=2, metric='euclidean', max_iter=1000, random_state=None, init='random'):\n",
    "        \"\"\"\n",
    "        Инициализация метода\n",
    "        :k - количество кластеров\n",
    "        :metric - функция расстояния между объектами\n",
    "        :max_iter - максиальное количество итераций\n",
    "        :random_state - seed для инициализации генератора случайных чисел\n",
    "        \"\"\"\n",
    "        self.k = k\n",
    "        self.random_state = random_state\n",
    "        self.metric = metric\n",
    "        self.max_iter = max_iter\n",
    "        if init == 'random':\n",
    "            self.centrs = self.centrs_random\n",
    "        if init == 'k-means':\n",
    "            self.centrs= self.centrs_plus\n",
    "\n",
    "    def centrs_random(self, X):\n",
    "        self.centroids = X[np.random.choice(X.shape[0], self.k)]\n",
    "\n",
    "    def centrs_plus(self, X):\n",
    "        sqr_x = (X ** 2).sum(axis=1)\n",
    "        self.centroids[0] = X[np.random.choice(X.shape[0])]\n",
    "        for i in range(1, self.k):\n",
    "            mul_x = np.dot(X, self.centroids[:i].T)\n",
    "            sqr_centrs = (self.centroids[:i] ** 2).sum(axis=1)\n",
    "            sqr_dist  = sqr_x.reshape(-1, 1) + sqr_centrs - 2 * mul_x \n",
    "            dist = np.min(sqr_dist, axis=1)\n",
    "            self.centroids[i] = X[np.random.choice(X.shape[0], size = 1, p = abs(dist/dist.sum()))]\n",
    "\n",
    "    def fit(self, X, y=None):\n",
    "        \"\"\"\n",
    "        Процедура обучения k-means\n",
    "        \"\"\"\n",
    "        \n",
    "        # Инициализация генератора случайных чисел\n",
    "        np.random.seed(self.random_state)\n",
    "\n",
    "        # Массив с метками кластеров для каждого объекта из X\n",
    "        self.labels = np.empty(X.shape[0])\n",
    "\n",
    "        # Массив с центройдами кластеров\n",
    "        self.centroids = np.empty((self.k, X.shape[1]))\n",
    "\n",
    "        # Your Code Here\n",
    "        self.centrs(X)\n",
    "        eps = 1e-10\n",
    "        centroids = np.empty((self.k, X.shape[1]))\n",
    "        for iters in range(self.max_iter):\n",
    "            sqr_x = (X ** 2).sum(axis=1)\n",
    "            mul_x = np.dot(self.centroids, X.T)\n",
    "            sqr_centrs = (self.centroids ** 2).sum(axis=1)\n",
    "            sqr_dist  = sqr_x + sqr_centrs.reshape(-1, 1) - 2 * mul_x \n",
    "            self.labels = np.argmin(sqr_dist, axis=0)\n",
    "            for i in range(self.k):\n",
    "                centroids[i] = (X[self.labels == i, :]).mean(axis = 0)\n",
    "            if ((centroids - self.centroids) ** 2).sum() < eps:\n",
    "                return self\n",
    "            self.centroids = centroids\n",
    "        self.labels = np.abs(self.labels)\n",
    "        return self\n",
    "\n",
    "    def predict(self, X, y=None):\n",
    "        \"\"\"\n",
    "        Процедура предсказания кластера\n",
    "\n",
    "        Возвращает метку ближайшего кластера для каждого объекта\n",
    "        \n",
    "        \"\"\"\n",
    "        sqr_x = (X ** 2).sum(axis=1)\n",
    "        mul_x = np.dot(self.centroids, X.T)\n",
    "        sqr_centrs = (self.centroids ** 2).sum(axis=1)\n",
    "        sqr_dist  = sqr_x + sqr_centrs.reshape(-1, 1) - 2 * mul_x \n",
    "        self.labels = np.argmin(sqr_dist, axis=0)\n",
    "        return self.labels\n",
    "\n",
    "class MiniBatchKMeans(MyKmeans):\n",
    "\n",
    "    def __init__(self, k=2, metric='euclidean', max_iter=1000, random_state=None, init='random', batch_size=10):\n",
    "        self.batch_size = batch_size\n",
    "        self.k = k\n",
    "        self.random_state = random_state\n",
    "        self.metric = metric\n",
    "        self.max_iter = max_iter\n",
    "        if init == 'random':\n",
    "            self.centrs = self.centrs_random\n",
    "        if init == 'k-means':\n",
    "            self.centrs = self.centrs_plus\n",
    "\n",
    "    def fit(self, X):\n",
    "         # Инициализация генератора случайных чисел\n",
    "        np.random.seed(self.random_state)\n",
    "\n",
    "        # Массив с метками кластеров для каждого объекта из X\n",
    "        self.labels = np.empty(X.shape[0])\n",
    "        \n",
    "        # Массив с центройдами кластеров\n",
    "        self.centroids = np.empty((self.k, X.shape[1]))\n",
    "\n",
    "        # Your Code Here\n",
    "        self.centrs(X)\n",
    "        eps = 1e-5\n",
    "        centroids = np.empty((self.k, X.shape[1]))\n",
    "        \n",
    "        for iters in range(self.max_iter):\n",
    "            np.random.shuffle(X)\n",
    "            batch = X[:self.batch_size]\n",
    "            sqr_batch = np.sum(batch ** 2, axis=1)\n",
    "            mul_batch = np.dot(self.centroids, batch.T)\n",
    "            sqr_centrs = (self.centroids ** 2).sum(axis=1)\n",
    "            sqr_dist  = sqr_batch + sqr_centrs.reshape(-1, 1) - 2 * mul_batch\n",
    "            self.labels = np.argmin(sqr_dist, axis=0)\n",
    "            for i in range(self.k):\n",
    "                if self.labels[self.labels == i].shape[0] != 0:\n",
    "                    centroids[i] = np.mean(batch[self.labels == i, :], axis = 0)\n",
    "            if np.sum((centroids - self.centroids) ** 2) < eps:\n",
    "                return self\n",
    "            self.centroids = centroids\n",
    "        sqr_x = np.sum(X ** 2, axis=1)\n",
    "        mul_x = np.dot(self.centroids, X.T)\n",
    "        sqr_centrs = np.sum(self.centroids ** 2, axis=1)\n",
    "        sqr_dist  = sqr_x + sqr_centrs.reshape(-1, 1) - 2 * mul_x \n",
    "        self.labels = np.argmin(sqr_dist, axis=0)\n",
    "        self.labels = np.abs(self.labels)\n",
    "        return self"
   ]
  },
  {
   "cell_type": "markdown",
   "metadata": {},
   "source": [
    "### Проверка корректности метода\n",
    "\n",
    "Перед тем как применять алгоритм на реальных данных, нужно испытать его на простых \"игрушечных\" данных.\n",
    "\n",
    "Если алгоритм реализован правильно, то метод должен идеально разбивать на 3 кластера данные ниже. Проверьте это.\n",
    "\n",
    "ВНИМАНИЕ! Проверка должна быть осуществлена на всех реализациях, иначе реализация не будет зачтена!"
   ]
  },
  {
   "cell_type": "code",
   "execution_count": 3,
   "metadata": {},
   "outputs": [],
   "source": [
    "from sklearn.datasets import make_blobs"
   ]
  },
  {
   "cell_type": "code",
   "execution_count": 4,
   "metadata": {},
   "outputs": [],
   "source": [
    "X, y = make_blobs(n_samples=100, n_features=2, centers=3, cluster_std=1, \n",
    "           center_box=(-10.0, 10.0), shuffle=False, random_state=1234)"
   ]
  },
  {
   "cell_type": "code",
   "execution_count": 5,
   "metadata": {},
   "outputs": [
    {
     "data": {
      "text/plain": [
       "<matplotlib.collections.PathCollection at 0x1a80c43c400>"
      ]
     },
     "execution_count": 5,
     "metadata": {},
     "output_type": "execute_result"
    },
    {
     "data": {
      "image/png": "[encoded data removed]",
      "text/plain": [
       "<Figure size 432x288 with 1 Axes>"
      ]
     },
     "metadata": {},
     "output_type": "display_data"
    }
   ],
   "source": [
    "plt.scatter(X[:,0], X[:, 1], c=y)"
   ]
  },
  {
   "cell_type": "markdown",
   "metadata": {},
   "source": [
    "Проверьте Вашу имплементацию на простых данных (без этого пункта ДЗ не считается выполненным).   \n",
    "КОММЕНТАРИИ НЕ СТИРАТЬ!"
   ]
  },
  {
   "cell_type": "code",
   "execution_count": 6,
   "metadata": {},
   "outputs": [],
   "source": [
    "def work(model):\n",
    "    model.fit(X)\n",
    "    y = model.predict(X)\n",
    "    plt.scatter(model.centroids[:, 0], model.centroids[:, 1], s=100)\n",
    "    plt.scatter(X[:,0], X[:, 1], c = y)\n"
   ]
  },
  {
   "cell_type": "code",
   "execution_count": 9,
   "metadata": {},
   "outputs": [
    {
     "data": {
      "image/png": "[encoded data removed]",
      "text/plain": [
       "<Figure size 432x288 with 1 Axes>"
      ]
     },
     "metadata": {},
     "output_type": "display_data"
    }
   ],
   "source": [
    "## Работоспособность MyKmeans\n",
    "work(MyKmeans(k=3))"
   ]
  },
  {
   "cell_type": "code",
   "execution_count": 10,
   "metadata": {},
   "outputs": [
    {
     "data": {
      "image/png": "[encoded data removed]",
      "text/plain": [
       "<Figure size 432x288 with 1 Axes>"
      ]
     },
     "metadata": {},
     "output_type": "display_data"
    }
   ],
   "source": [
    "## Работоспособность MyKmeans++\n",
    "work(MyKmeans(k=3, init='k-means'))"
   ]
  },
  {
   "cell_type": "code",
   "execution_count": 13,
   "metadata": {},
   "outputs": [
    {
     "data": {
      "image/png": "[encoded data removed]",
      "text/plain": [
       "<Figure size 432x288 with 1 Axes>"
      ]
     },
     "metadata": {},
     "output_type": "display_data"
    }
   ],
   "source": [
    "## Работоспособность MyKmeans с MiniBatchMyKmeans\n",
    "work(MiniBatchKMeans(k=3))"
   ]
  },
  {
   "cell_type": "code",
   "execution_count": 12,
   "metadata": {},
   "outputs": [
    {
     "data": {
      "image/png": "[encoded data removed]",
      "text/plain": [
       "<Figure size 432x288 with 1 Axes>"
      ]
     },
     "metadata": {},
     "output_type": "display_data"
    }
   ],
   "source": [
    "## Работоспособность MyKmeans++ с MiniBatchMyKmeans\n",
    "work(MiniBatchKMeans(k=3, init='k-means'))"
   ]
  },
  {
   "cell_type": "code",
   "execution_count": 14,
   "metadata": {},
   "outputs": [],
   "source": [
    "import time"
   ]
  },
  {
   "cell_type": "code",
   "execution_count": 15,
   "metadata": {},
   "outputs": [],
   "source": [
    "def times(model):\n",
    "    number = [100, 200, 500, 1000, 2000, 5000, 10000, 50000, 100000]\n",
    "    times = []\n",
    "    for s in number:\n",
    "        X, y = make_blobs(n_samples=s, n_features=2, centers=3, cluster_std=1, \n",
    "               center_box=(-10.0, 10.0), shuffle=False, random_state=123)\n",
    "        t1 = time.time()\n",
    "        model.fit(X)\n",
    "        t2 = time.time()\n",
    "        times.append(t2 - t1)\n",
    "    plt.plot(number, times)\n",
    "    plt.xlabel('number')\n",
    "    plt.ylabel('time')\n"
   ]
  },
  {
   "cell_type": "code",
   "execution_count": 16,
   "metadata": {},
   "outputs": [],
   "source": [
    "## Время выполнения алгоритма Kmeans из sklearn\n",
    "from sklearn.cluster import KMeans"
   ]
  },
  {
   "cell_type": "code",
   "execution_count": 17,
   "metadata": {},
   "outputs": [
    {
     "data": {
      "image/png": "[encoded data removed]",
      "text/plain": [
       "<Figure size 432x288 with 1 Axes>"
      ]
     },
     "metadata": {},
     "output_type": "display_data"
    }
   ],
   "source": [
    "times(KMeans(n_clusters=3))"
   ]
  },
  {
   "cell_type": "code",
   "execution_count": 18,
   "metadata": {},
   "outputs": [
    {
     "data": {
      "image/png": "[encoded data removed]",
      "text/plain": [
       "<Figure size 432x288 with 1 Axes>"
      ]
     },
     "metadata": {},
     "output_type": "display_data"
    }
   ],
   "source": [
    "## Время выполнения алгоритма MyKmeans\n",
    "times(MyKmeans(k=3))"
   ]
  },
  {
   "cell_type": "code",
   "execution_count": 19,
   "metadata": {},
   "outputs": [
    {
     "data": {
      "image/png": "[encoded data removed]",
      "text/plain": [
       "<Figure size 432x288 with 1 Axes>"
      ]
     },
     "metadata": {},
     "output_type": "display_data"
    }
   ],
   "source": [
    "## Время выполнения алгоритма MyKmeans++\n",
    "times(MyKmeans(k=3, init='k-means'))"
   ]
  },
  {
   "cell_type": "code",
   "execution_count": 20,
   "metadata": {
    "scrolled": true
   },
   "outputs": [
    {
     "data": {
      "image/png": "[encoded data removed]",
      "text/plain": [
       "<Figure size 432x288 with 1 Axes>"
      ]
     },
     "metadata": {},
     "output_type": "display_data"
    }
   ],
   "source": [
    "## Время выполнения алгоритма MyKmeans с MiniBatchMyKmeans\n",
    "times(MiniBatchKMeans(k=3))"
   ]
  },
  {
   "cell_type": "code",
   "execution_count": 21,
   "metadata": {},
   "outputs": [
    {
     "data": {
      "image/png": "[encoded data removed]",
      "text/plain": [
       "<Figure size 432x288 with 1 Axes>"
      ]
     },
     "metadata": {},
     "output_type": "display_data"
    }
   ],
   "source": [
    "## Время выполнения алгоритма  MyKmeans++ с MiniBatchMyKmeans\n",
    "times(MiniBatchKMeans(k=3, init='k-means'))"
   ]
  },
  {
   "cell_type": "markdown",
   "metadata": {},
   "source": [
    "# Применение K-means на реальных данных"
   ]
  },
  {
   "cell_type": "markdown",
   "metadata": {},
   "source": [
    "Загрузите [данные](https://github.com/brenden17/sklearnlab/blob/master/facebook/snsdata.csv) в которых содержится описание интересов профилей учеников старшей школы США.  (без этого пункта задание не считается выполненным).   \n",
    "ВНИМАНИЕ! Проверка должна быть осуществлена на всех реализациях, иначе реализация не будет зачтена!"
   ]
  },
  {
   "cell_type": "code",
   "execution_count": 22,
   "metadata": {},
   "outputs": [
    {
     "data": {
      "text/html": [
       "<div>\n",
       "<style scoped>\n",
       "    .dataframe tbody tr th:only-of-type {\n",
       "        vertical-align: middle;\n",
       "    }\n",
       "\n",
       "    .dataframe tbody tr th {\n",
       "        vertical-align: top;\n",
       "    }\n",
       "\n",
       "    .dataframe thead th {\n",
       "        text-align: right;\n",
       "    }\n",
       "</style>\n",
       "<table border=\"1\" class=\"dataframe\">\n",
       "  <thead>\n",
       "    <tr style=\"text-align: right;\">\n",
       "      <th></th>\n",
       "      <th>gradyear</th>\n",
       "      <th>gender</th>\n",
       "      <th>age</th>\n",
       "      <th>friends</th>\n",
       "      <th>basketball</th>\n",
       "      <th>football</th>\n",
       "      <th>soccer</th>\n",
       "      <th>softball</th>\n",
       "      <th>volleyball</th>\n",
       "      <th>swimming</th>\n",
       "      <th>...</th>\n",
       "      <th>blonde</th>\n",
       "      <th>mall</th>\n",
       "      <th>shopping</th>\n",
       "      <th>clothes</th>\n",
       "      <th>hollister</th>\n",
       "      <th>abercrombie</th>\n",
       "      <th>die</th>\n",
       "      <th>death</th>\n",
       "      <th>drunk</th>\n",
       "      <th>drugs</th>\n",
       "    </tr>\n",
       "  </thead>\n",
       "  <tbody>\n",
       "    <tr>\n",
       "      <th>0</th>\n",
       "      <td>2006</td>\n",
       "      <td>M</td>\n",
       "      <td>18.982</td>\n",
       "      <td>7</td>\n",
       "      <td>0</td>\n",
       "      <td>0</td>\n",
       "      <td>0</td>\n",
       "      <td>0</td>\n",
       "      <td>0</td>\n",
       "      <td>0</td>\n",
       "      <td>...</td>\n",
       "      <td>0</td>\n",
       "      <td>0</td>\n",
       "      <td>0</td>\n",
       "      <td>0</td>\n",
       "      <td>0</td>\n",
       "      <td>0</td>\n",
       "      <td>0</td>\n",
       "      <td>0</td>\n",
       "      <td>0</td>\n",
       "      <td>0</td>\n",
       "    </tr>\n",
       "    <tr>\n",
       "      <th>1</th>\n",
       "      <td>2006</td>\n",
       "      <td>F</td>\n",
       "      <td>18.801</td>\n",
       "      <td>0</td>\n",
       "      <td>0</td>\n",
       "      <td>1</td>\n",
       "      <td>0</td>\n",
       "      <td>0</td>\n",
       "      <td>0</td>\n",
       "      <td>0</td>\n",
       "      <td>...</td>\n",
       "      <td>0</td>\n",
       "      <td>1</td>\n",
       "      <td>0</td>\n",
       "      <td>0</td>\n",
       "      <td>0</td>\n",
       "      <td>0</td>\n",
       "      <td>0</td>\n",
       "      <td>0</td>\n",
       "      <td>0</td>\n",
       "      <td>0</td>\n",
       "    </tr>\n",
       "    <tr>\n",
       "      <th>2</th>\n",
       "      <td>2006</td>\n",
       "      <td>M</td>\n",
       "      <td>18.335</td>\n",
       "      <td>69</td>\n",
       "      <td>0</td>\n",
       "      <td>1</td>\n",
       "      <td>0</td>\n",
       "      <td>0</td>\n",
       "      <td>0</td>\n",
       "      <td>0</td>\n",
       "      <td>...</td>\n",
       "      <td>0</td>\n",
       "      <td>0</td>\n",
       "      <td>0</td>\n",
       "      <td>0</td>\n",
       "      <td>0</td>\n",
       "      <td>0</td>\n",
       "      <td>0</td>\n",
       "      <td>1</td>\n",
       "      <td>0</td>\n",
       "      <td>0</td>\n",
       "    </tr>\n",
       "    <tr>\n",
       "      <th>3</th>\n",
       "      <td>2006</td>\n",
       "      <td>F</td>\n",
       "      <td>18.875</td>\n",
       "      <td>0</td>\n",
       "      <td>0</td>\n",
       "      <td>0</td>\n",
       "      <td>0</td>\n",
       "      <td>0</td>\n",
       "      <td>0</td>\n",
       "      <td>0</td>\n",
       "      <td>...</td>\n",
       "      <td>0</td>\n",
       "      <td>0</td>\n",
       "      <td>0</td>\n",
       "      <td>0</td>\n",
       "      <td>0</td>\n",
       "      <td>0</td>\n",
       "      <td>0</td>\n",
       "      <td>0</td>\n",
       "      <td>0</td>\n",
       "      <td>0</td>\n",
       "    </tr>\n",
       "    <tr>\n",
       "      <th>4</th>\n",
       "      <td>2006</td>\n",
       "      <td>NaN</td>\n",
       "      <td>18.995</td>\n",
       "      <td>10</td>\n",
       "      <td>0</td>\n",
       "      <td>0</td>\n",
       "      <td>0</td>\n",
       "      <td>0</td>\n",
       "      <td>0</td>\n",
       "      <td>0</td>\n",
       "      <td>...</td>\n",
       "      <td>0</td>\n",
       "      <td>0</td>\n",
       "      <td>2</td>\n",
       "      <td>0</td>\n",
       "      <td>0</td>\n",
       "      <td>0</td>\n",
       "      <td>0</td>\n",
       "      <td>0</td>\n",
       "      <td>1</td>\n",
       "      <td>1</td>\n",
       "    </tr>\n",
       "  </tbody>\n",
       "</table>\n",
       "<p>5 rows × 40 columns</p>\n",
       "</div>"
      ],
      "text/plain": [
       "   gradyear gender     age  friends  basketball  football  soccer  softball  \\\n",
       "0      2006      M  18.982        7           0         0       0         0   \n",
       "1      2006      F  18.801        0           0         1       0         0   \n",
       "2      2006      M  18.335       69           0         1       0         0   \n",
       "3      2006      F  18.875        0           0         0       0         0   \n",
       "4      2006    NaN  18.995       10           0         0       0         0   \n",
       "\n",
       "   volleyball  swimming  ...    blonde  mall  shopping  clothes  hollister  \\\n",
       "0           0         0  ...         0     0         0        0          0   \n",
       "1           0         0  ...         0     1         0        0          0   \n",
       "2           0         0  ...         0     0         0        0          0   \n",
       "3           0         0  ...         0     0         0        0          0   \n",
       "4           0         0  ...         0     0         2        0          0   \n",
       "\n",
       "   abercrombie  die  death  drunk  drugs  \n",
       "0            0    0      0      0      0  \n",
       "1            0    0      0      0      0  \n",
       "2            0    0      1      0      0  \n",
       "3            0    0      0      0      0  \n",
       "4            0    0      0      1      1  \n",
       "\n",
       "[5 rows x 40 columns]"
      ]
     },
     "execution_count": 22,
     "metadata": {},
     "output_type": "execute_result"
    }
   ],
   "source": [
    "df_sns = pd.read_csv('snsdata.csv', sep=',')\n",
    "df_sns.head()"
   ]
  },
  {
   "cell_type": "markdown",
   "metadata": {},
   "source": [
    "Данные устроены так: \n",
    "* Год выпуска\n",
    "* Пол\n",
    "* Возраст\n",
    "* Количество друзей\n",
    "* 36 ключевых слов, которые встречаются в профилe facebook (интересы, сообщества, встречи)"
   ]
  },
  {
   "cell_type": "markdown",
   "metadata": {},
   "source": [
    "* Удалите все признаки кроме 36 ключевых слов.\n",
    "* Нормализуйте данные - из каждого столбца вычтите его среднее значение и поделите на стандартное отклонение.\n",
    "* Используйте метод k-means чтобы выделить 9 кластеров\n",
    "* Попробуйте проинтерпретировать каждый кластер проанализировав полученные центройды (Некоторые кластеры могут быть очень большие и очень маленькие - плохо интерпретируются)   \n",
    "КОММЕНТАРИИ НЕ СТИРАТЬ!"
   ]
  },
  {
   "cell_type": "code",
   "execution_count": 23,
   "metadata": {},
   "outputs": [],
   "source": [
    "X = df_sns.drop(df_sns.columns[:4], axis=1)\n",
    "X = (X - X.mean(axis=0)) / X.std(axis=0)\n",
    "\n",
    "def prediction(model):\n",
    "    model.fit(X.values)\n",
    "    label = X\n",
    "    label.loc[:, 'label'] = model.predict(X.values)\n",
    "    for c, group in label.groupby('label'):\n",
    "        print('Cluster: {}'.format(c))\n",
    "        print(group.iloc[:, 4:-1].mean().abs().nlargest(5))\n",
    "        print('=' * 10 + '\\n')"
   ]
  },
  {
   "cell_type": "code",
   "execution_count": 34,
   "metadata": {
    "scrolled": false
   },
   "outputs": [
    {
     "name": "stdout",
     "output_type": "stream",
     "text": [
      "Cluster: 0\n",
      "baseball    8.304294\n",
      "sports      0.790806\n",
      "rock        0.292672\n",
      "shopping    0.245724\n",
      "church      0.202032\n",
      "dtype: float64\n",
      "==========\n",
      "\n",
      "Cluster: 1\n",
      "hot        2.082614\n",
      "hair       1.825829\n",
      "kissed     1.432119\n",
      "clothes    1.418999\n",
      "cute       1.394097\n",
      "dtype: float64\n",
      "==========\n",
      "\n",
      "Cluster: 2\n",
      "dress       2.164546\n",
      "shopping    0.330018\n",
      "dance       0.220373\n",
      "drugs       0.106300\n",
      "drunk       0.085042\n",
      "dtype: float64\n",
      "==========\n",
      "\n",
      "Cluster: 3\n",
      "church      3.842229\n",
      "bible       1.885470\n",
      "jesus       1.839354\n",
      "god         1.566052\n",
      "shopping    0.273193\n",
      "dtype: float64\n",
      "==========\n",
      "\n",
      "Cluster: 4\n",
      "volleyball    7.375700\n",
      "sports        1.304277\n",
      "shopping      0.481445\n",
      "hair          0.305411\n",
      "cute          0.266656\n",
      "dtype: float64\n",
      "==========\n",
      "\n",
      "Cluster: 5\n",
      "drugs       1.129252\n",
      "drunk       1.069894\n",
      "swimming    1.051727\n",
      "hair        0.962733\n",
      "die         0.820965\n",
      "dtype: float64\n",
      "==========\n",
      "\n",
      "Cluster: 6\n",
      "mall           1.871010\n",
      "shopping       0.756059\n",
      "hollister      0.568091\n",
      "abercrombie    0.560055\n",
      "cute           0.395532\n",
      "dtype: float64\n",
      "==========\n",
      "\n",
      "Cluster: 7\n",
      "god       0.377684\n",
      "sports    0.361562\n",
      "mall      0.247701\n",
      "tennis    0.196324\n",
      "dress     0.195306\n",
      "dtype: float64\n",
      "==========\n",
      "\n",
      "Cluster: 8\n",
      "mall        0.293042\n",
      "shopping    0.258684\n",
      "hair        0.231647\n",
      "dress       0.209403\n",
      "church      0.208991\n",
      "dtype: float64\n",
      "==========\n",
      "\n",
      "Wall time: 200 ms\n"
     ]
    }
   ],
   "source": [
    "## MyKMeans\n",
    "%time prediction(MyKmeans(k=9))"
   ]
  },
  {
   "cell_type": "code",
   "execution_count": 31,
   "metadata": {},
   "outputs": [
    {
     "name": "stdout",
     "output_type": "stream",
     "text": [
      "Cluster: 0\n",
      "volleyball    6.258794\n",
      "sports        0.439554\n",
      "shopping      0.344758\n",
      "church        0.208875\n",
      "cute          0.169529\n",
      "dtype: float64\n",
      "==========\n",
      "\n",
      "Cluster: 1\n",
      "shopping    0.373479\n",
      "cute        0.288770\n",
      "music       0.277548\n",
      "hair        0.274617\n",
      "clothes     0.271918\n",
      "dtype: float64\n",
      "==========\n",
      "\n",
      "Cluster: 2\n",
      "marching     7.913528\n",
      "band         5.348198\n",
      "music        0.629131\n",
      "hollister    0.159066\n",
      "rock         0.136843\n",
      "dtype: float64\n",
      "==========\n",
      "\n",
      "Cluster: 3\n",
      "baseball    9.349015\n",
      "sports      0.838322\n",
      "shopping    0.342838\n",
      "church      0.260123\n",
      "rock        0.243306\n",
      "dtype: float64\n",
      "==========\n",
      "\n",
      "Cluster: 4\n",
      "church     1.568142\n",
      "god        0.812845\n",
      "jesus      0.718110\n",
      "clothes    0.676023\n",
      "die        0.466873\n",
      "dtype: float64\n",
      "==========\n",
      "\n",
      "Cluster: 5\n",
      "sports    7.323423\n",
      "hair      1.155276\n",
      "drugs     0.784401\n",
      "music     0.716243\n",
      "kissed    0.712871\n",
      "dtype: float64\n",
      "==========\n",
      "\n",
      "Cluster: 6\n",
      "shopping    0.396189\n",
      "bible       0.210233\n",
      "sports      0.194963\n",
      "swimming    0.180734\n",
      "music       0.168061\n",
      "dtype: float64\n",
      "==========\n",
      "\n",
      "Cluster: 7\n",
      "hair      2.071881\n",
      "drugs     1.643840\n",
      "kissed    1.422766\n",
      "sex       1.326864\n",
      "sexy      1.254733\n",
      "dtype: float64\n",
      "==========\n",
      "\n",
      "Cluster: 8\n",
      "hot            1.540051\n",
      "cute           1.032338\n",
      "mall           0.908764\n",
      "hollister      0.647535\n",
      "abercrombie    0.618658\n",
      "dtype: float64\n",
      "==========\n",
      "\n",
      "Wall time: 290 ms\n"
     ]
    }
   ],
   "source": [
    "## MyKMeans++\n",
    "%time prediction(MyKmeans(k=9, init='k-means'))"
   ]
  },
  {
   "cell_type": "code",
   "execution_count": 36,
   "metadata": {
    "scrolled": true
   },
   "outputs": [
    {
     "name": "stdout",
     "output_type": "stream",
     "text": [
      "Cluster: 0\n",
      "cheerleading    5.631904\n",
      "shopping        0.646733\n",
      "abercrombie     0.603344\n",
      "hollister       0.532554\n",
      "mall            0.416439\n",
      "dtype: float64\n",
      "==========\n",
      "\n",
      "Cluster: 1\n",
      "baseball    7.776933\n",
      "sports      0.791688\n",
      "rock        0.543263\n",
      "cute        0.209247\n",
      "church      0.206825\n",
      "dtype: float64\n",
      "==========\n",
      "\n",
      "Cluster: 2\n",
      "dress       1.659700\n",
      "church      0.849767\n",
      "hot         0.633571\n",
      "shopping    0.574823\n",
      "cute        0.396930\n",
      "dtype: float64\n",
      "==========\n",
      "\n",
      "Cluster: 3\n",
      "bible     9.776562\n",
      "god       2.844990\n",
      "jesus     2.461798\n",
      "church    1.227647\n",
      "tennis    1.139617\n",
      "dtype: float64\n",
      "==========\n",
      "\n",
      "Cluster: 4\n",
      "dress       0.194486\n",
      "swimming    0.173549\n",
      "hair        0.150875\n",
      "church      0.149537\n",
      "rock        0.147077\n",
      "dtype: float64\n",
      "==========\n",
      "\n",
      "Cluster: 5\n",
      "swimming    2.283535\n",
      "hair        0.797460\n",
      "drugs       0.703085\n",
      "music       0.661382\n",
      "drunk       0.616700\n",
      "dtype: float64\n",
      "==========\n",
      "\n",
      "Cluster: 6\n",
      "tennis    6.235043\n",
      "sports    1.080544\n",
      "music     1.062268\n",
      "hair      1.038806\n",
      "rock      0.990786\n",
      "dtype: float64\n",
      "==========\n",
      "\n",
      "Cluster: 7\n",
      "rock      4.675569\n",
      "band      0.778089\n",
      "music     0.736156\n",
      "dance     0.476652\n",
      "kissed    0.271292\n",
      "dtype: float64\n",
      "==========\n",
      "\n",
      "Cluster: 8\n",
      "hollister      1.878392\n",
      "die            1.051202\n",
      "abercrombie    0.972988\n",
      "hair           0.554477\n",
      "dress          0.541930\n",
      "dtype: float64\n",
      "==========\n",
      "\n",
      "Wall time: 169 ms\n"
     ]
    }
   ],
   "source": [
    "## MyKMeans с MiniBatchMyKMeans\n",
    "%time prediction(MiniBatchKMeans(k=9, batch_size = 10))"
   ]
  },
  {
   "cell_type": "code",
   "execution_count": 38,
   "metadata": {},
   "outputs": [
    {
     "name": "stdout",
     "output_type": "stream",
     "text": [
      "Cluster: 0\n",
      "hair            0.148811\n",
      "sports          0.141412\n",
      "cheerleading    0.133018\n",
      "kissed          0.125795\n",
      "abercrombie     0.123165\n",
      "dtype: float64\n",
      "==========\n",
      "\n",
      "Cluster: 1\n",
      "kissed    3.047908\n",
      "drugs     2.778083\n",
      "sex       1.988823\n",
      "hair      1.790296\n",
      "die       1.487983\n",
      "dtype: float64\n",
      "==========\n",
      "\n",
      "Cluster: 3\n",
      "cheerleading    3.235107\n",
      "swimming        1.663211\n",
      "shopping        0.729514\n",
      "abercrombie     0.678760\n",
      "cute            0.472127\n",
      "dtype: float64\n",
      "==========\n",
      "\n",
      "Cluster: 4\n",
      "dress          1.369132\n",
      "volleyball     1.345631\n",
      "hollister      1.195836\n",
      "dance          1.191554\n",
      "abercrombie    1.163625\n",
      "dtype: float64\n",
      "==========\n",
      "\n",
      "Cluster: 5\n",
      "swimming    59.702484\n",
      "sports       1.825662\n",
      "dance        0.494449\n",
      "shopping     0.487306\n",
      "cute         0.402356\n",
      "dtype: float64\n",
      "==========\n",
      "\n",
      "Cluster: 6\n",
      "tennis      9.454006\n",
      "church      5.318018\n",
      "shopping    0.526204\n",
      "band        0.433694\n",
      "sports      0.401518\n",
      "dtype: float64\n",
      "==========\n",
      "\n",
      "Cluster: 7\n",
      "sports      3.881376\n",
      "marching    1.078665\n",
      "band        1.041027\n",
      "music       0.723748\n",
      "hair        0.652274\n",
      "dtype: float64\n",
      "==========\n",
      "\n",
      "Cluster: 8\n",
      "death     10.703496\n",
      "die        3.441439\n",
      "hair       3.402069\n",
      "blonde     3.173641\n",
      "music      2.955017\n",
      "dtype: float64\n",
      "==========\n",
      "\n",
      "Wall time: 247 ms\n"
     ]
    }
   ],
   "source": [
    "## MyKMeans++ с MiniBatchMyKMeans\n",
    "%time prediction(MiniBatchKMeans(k=9, init='k-means', batch_size = 100))"
   ]
  },
  {
   "cell_type": "code",
   "execution_count": 35,
   "metadata": {},
   "outputs": [],
   "source": [
    "## Вывод:\n",
    "# На игрушечных данных все методы довольно точно способны определить центройды,\n",
    "# однако в моей реализации MiniBAtch показал себя медленее,\n",
    "# а методы без K-means++ не всегда с 1 раза могли выделить кластеры верно.\n",
    "#То есть для игрушечного сета наиболее подходящим стал бы Kmeans++.\n",
    "\n",
    "#При работе на реальных данных\n",
    "\n",
    "#Для многих полученных кластеров действительно получается выделить общую тему (например, связанную с религией или спортом)\n",
    "#K-means++ работает заметно медленнее, чем K-means, но критической разницы в точности не наблюдается\n",
    "#Также на тестовом наборе скорость MiniBatch Kmeans несколько превышает скорость обычного\n"
   ]
  }
 ],
 "metadata": {
  "anaconda-cloud": {},
  "kernelspec": {
   "display_name": "Python 3",
   "language": "python",
   "name": "python3"
  },
  "language_info": {
   "codemirror_mode": {
    "name": "ipython",
    "version": 3
   },
   "file_extension": ".py",
   "mimetype": "text/x-python",
   "name": "python",
   "nbconvert_exporter": "python",
   "pygments_lexer": "ipython3",
   "version": "3.6.5"
  },
  "nav_menu": {},
  "toc": {
   "navigate_menu": true,
   "number_sections": false,
   "sideBar": true,
   "threshold": 6,
   "toc_cell": false,
   "toc_section_display": "block",
   "toc_window_display": true
  }
 },
 "nbformat": 4,
 "nbformat_minor": 2
}
